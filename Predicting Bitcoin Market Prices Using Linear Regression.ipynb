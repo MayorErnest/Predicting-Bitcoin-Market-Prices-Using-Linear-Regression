{
 "cells": [
  {
   "cell_type": "markdown",
   "metadata": {},
   "source": [
    "# Predicting Bitcoin Market Price.\n",
    "This is a simple project trying to predict the market price of bitcoin using the estimated transaction volume of bitcoin in usd. Simple Linear Regression was employed. In this notebook, Linear Regression was coded from scratch and also Sklearn Libary was used for the regression, both answers from the two methods used came out to be the same. Model was tested using r2.      "
   ]
  },
  {
   "cell_type": "code",
   "execution_count": 1,
   "metadata": {},
   "outputs": [],
   "source": [
    "#Import relevant libaries for the project \n",
    "import pandas as pd\n",
    "import numpy as np\n",
    "import matplotlib.pyplot as plt\n",
    "import seaborn as sns\n",
    "plt.rcParams['figure.figsize'] = (20.0,10.0)"
   ]
  },
  {
   "cell_type": "code",
   "execution_count": 2,
   "metadata": {},
   "outputs": [],
   "source": [
    "#Read Data\n",
    "data = pd.read_csv(\"bitcoin_dataset.csv\")\n",
    "data = data.dropna()"
   ]
  },
  {
   "cell_type": "code",
   "execution_count": 3,
   "metadata": {
    "scrolled": true
   },
   "outputs": [
    {
     "data": {
      "text/html": [
       "<div>\n",
       "<style scoped>\n",
       "    .dataframe tbody tr th:only-of-type {\n",
       "        vertical-align: middle;\n",
       "    }\n",
       "\n",
       "    .dataframe tbody tr th {\n",
       "        vertical-align: top;\n",
       "    }\n",
       "\n",
       "    .dataframe thead th {\n",
       "        text-align: right;\n",
       "    }\n",
       "</style>\n",
       "<table border=\"1\" class=\"dataframe\">\n",
       "  <thead>\n",
       "    <tr style=\"text-align: right;\">\n",
       "      <th></th>\n",
       "      <th>Date</th>\n",
       "      <th>btc_market_price</th>\n",
       "      <th>btc_total_bitcoins</th>\n",
       "      <th>btc_market_cap</th>\n",
       "      <th>btc_trade_volume</th>\n",
       "      <th>btc_blocks_size</th>\n",
       "      <th>btc_avg_block_size</th>\n",
       "      <th>btc_n_orphaned_blocks</th>\n",
       "      <th>btc_n_transactions_per_block</th>\n",
       "      <th>btc_median_confirmation_time</th>\n",
       "      <th>...</th>\n",
       "      <th>btc_cost_per_transaction_percent</th>\n",
       "      <th>btc_cost_per_transaction</th>\n",
       "      <th>btc_n_unique_addresses</th>\n",
       "      <th>btc_n_transactions</th>\n",
       "      <th>btc_n_transactions_total</th>\n",
       "      <th>btc_n_transactions_excluding_popular</th>\n",
       "      <th>btc_n_transactions_excluding_chains_longer_than_100</th>\n",
       "      <th>btc_output_volume</th>\n",
       "      <th>btc_estimated_transaction_volume</th>\n",
       "      <th>btc_estimated_transaction_volume_usd</th>\n",
       "    </tr>\n",
       "  </thead>\n",
       "  <tbody>\n",
       "    <tr>\n",
       "      <th>0</th>\n",
       "      <td>2010-02-23 00:00:00</td>\n",
       "      <td>0.0</td>\n",
       "      <td>2110700.0</td>\n",
       "      <td>0.0</td>\n",
       "      <td>0.0</td>\n",
       "      <td>0.0</td>\n",
       "      <td>0.000216</td>\n",
       "      <td>0.0</td>\n",
       "      <td>1.0</td>\n",
       "      <td>0.0</td>\n",
       "      <td>...</td>\n",
       "      <td>25100.000000</td>\n",
       "      <td>0.0</td>\n",
       "      <td>252.0</td>\n",
       "      <td>252.0</td>\n",
       "      <td>42613.0</td>\n",
       "      <td>252.0</td>\n",
       "      <td>252.0</td>\n",
       "      <td>12600.0</td>\n",
       "      <td>50.0</td>\n",
       "      <td>0.0</td>\n",
       "    </tr>\n",
       "    <tr>\n",
       "      <th>1</th>\n",
       "      <td>2010-02-24 00:00:00</td>\n",
       "      <td>0.0</td>\n",
       "      <td>2120200.0</td>\n",
       "      <td>0.0</td>\n",
       "      <td>0.0</td>\n",
       "      <td>0.0</td>\n",
       "      <td>0.000282</td>\n",
       "      <td>0.0</td>\n",
       "      <td>1.0</td>\n",
       "      <td>0.0</td>\n",
       "      <td>...</td>\n",
       "      <td>179.245283</td>\n",
       "      <td>0.0</td>\n",
       "      <td>195.0</td>\n",
       "      <td>196.0</td>\n",
       "      <td>42809.0</td>\n",
       "      <td>196.0</td>\n",
       "      <td>196.0</td>\n",
       "      <td>14800.0</td>\n",
       "      <td>5300.0</td>\n",
       "      <td>0.0</td>\n",
       "    </tr>\n",
       "    <tr>\n",
       "      <th>2</th>\n",
       "      <td>2010-02-25 00:00:00</td>\n",
       "      <td>0.0</td>\n",
       "      <td>2127600.0</td>\n",
       "      <td>0.0</td>\n",
       "      <td>0.0</td>\n",
       "      <td>0.0</td>\n",
       "      <td>0.000227</td>\n",
       "      <td>0.0</td>\n",
       "      <td>1.0</td>\n",
       "      <td>0.0</td>\n",
       "      <td>...</td>\n",
       "      <td>1057.142857</td>\n",
       "      <td>0.0</td>\n",
       "      <td>150.0</td>\n",
       "      <td>150.0</td>\n",
       "      <td>42959.0</td>\n",
       "      <td>150.0</td>\n",
       "      <td>150.0</td>\n",
       "      <td>8100.0</td>\n",
       "      <td>700.0</td>\n",
       "      <td>0.0</td>\n",
       "    </tr>\n",
       "    <tr>\n",
       "      <th>3</th>\n",
       "      <td>2010-02-26 00:00:00</td>\n",
       "      <td>0.0</td>\n",
       "      <td>2136100.0</td>\n",
       "      <td>0.0</td>\n",
       "      <td>0.0</td>\n",
       "      <td>0.0</td>\n",
       "      <td>0.000319</td>\n",
       "      <td>0.0</td>\n",
       "      <td>1.0</td>\n",
       "      <td>0.0</td>\n",
       "      <td>...</td>\n",
       "      <td>64.582059</td>\n",
       "      <td>0.0</td>\n",
       "      <td>176.0</td>\n",
       "      <td>176.0</td>\n",
       "      <td>43135.0</td>\n",
       "      <td>176.0</td>\n",
       "      <td>176.0</td>\n",
       "      <td>29349.0</td>\n",
       "      <td>13162.0</td>\n",
       "      <td>0.0</td>\n",
       "    </tr>\n",
       "    <tr>\n",
       "      <th>4</th>\n",
       "      <td>2010-02-27 00:00:00</td>\n",
       "      <td>0.0</td>\n",
       "      <td>2144750.0</td>\n",
       "      <td>0.0</td>\n",
       "      <td>0.0</td>\n",
       "      <td>0.0</td>\n",
       "      <td>0.000223</td>\n",
       "      <td>0.0</td>\n",
       "      <td>1.0</td>\n",
       "      <td>0.0</td>\n",
       "      <td>...</td>\n",
       "      <td>1922.222222</td>\n",
       "      <td>0.0</td>\n",
       "      <td>176.0</td>\n",
       "      <td>176.0</td>\n",
       "      <td>43311.0</td>\n",
       "      <td>176.0</td>\n",
       "      <td>176.0</td>\n",
       "      <td>9101.0</td>\n",
       "      <td>450.0</td>\n",
       "      <td>0.0</td>\n",
       "    </tr>\n",
       "  </tbody>\n",
       "</table>\n",
       "<p>5 rows × 24 columns</p>\n",
       "</div>"
      ],
      "text/plain": [
       "                  Date  btc_market_price  btc_total_bitcoins  btc_market_cap  \\\n",
       "0  2010-02-23 00:00:00               0.0           2110700.0             0.0   \n",
       "1  2010-02-24 00:00:00               0.0           2120200.0             0.0   \n",
       "2  2010-02-25 00:00:00               0.0           2127600.0             0.0   \n",
       "3  2010-02-26 00:00:00               0.0           2136100.0             0.0   \n",
       "4  2010-02-27 00:00:00               0.0           2144750.0             0.0   \n",
       "\n",
       "   btc_trade_volume  btc_blocks_size  btc_avg_block_size  \\\n",
       "0               0.0              0.0            0.000216   \n",
       "1               0.0              0.0            0.000282   \n",
       "2               0.0              0.0            0.000227   \n",
       "3               0.0              0.0            0.000319   \n",
       "4               0.0              0.0            0.000223   \n",
       "\n",
       "   btc_n_orphaned_blocks  btc_n_transactions_per_block  \\\n",
       "0                    0.0                           1.0   \n",
       "1                    0.0                           1.0   \n",
       "2                    0.0                           1.0   \n",
       "3                    0.0                           1.0   \n",
       "4                    0.0                           1.0   \n",
       "\n",
       "   btc_median_confirmation_time                  ...                   \\\n",
       "0                           0.0                  ...                    \n",
       "1                           0.0                  ...                    \n",
       "2                           0.0                  ...                    \n",
       "3                           0.0                  ...                    \n",
       "4                           0.0                  ...                    \n",
       "\n",
       "   btc_cost_per_transaction_percent  btc_cost_per_transaction  \\\n",
       "0                      25100.000000                       0.0   \n",
       "1                        179.245283                       0.0   \n",
       "2                       1057.142857                       0.0   \n",
       "3                         64.582059                       0.0   \n",
       "4                       1922.222222                       0.0   \n",
       "\n",
       "   btc_n_unique_addresses  btc_n_transactions  btc_n_transactions_total  \\\n",
       "0                   252.0               252.0                   42613.0   \n",
       "1                   195.0               196.0                   42809.0   \n",
       "2                   150.0               150.0                   42959.0   \n",
       "3                   176.0               176.0                   43135.0   \n",
       "4                   176.0               176.0                   43311.0   \n",
       "\n",
       "   btc_n_transactions_excluding_popular  \\\n",
       "0                                 252.0   \n",
       "1                                 196.0   \n",
       "2                                 150.0   \n",
       "3                                 176.0   \n",
       "4                                 176.0   \n",
       "\n",
       "   btc_n_transactions_excluding_chains_longer_than_100  btc_output_volume  \\\n",
       "0                                              252.0              12600.0   \n",
       "1                                              196.0              14800.0   \n",
       "2                                              150.0               8100.0   \n",
       "3                                              176.0              29349.0   \n",
       "4                                              176.0               9101.0   \n",
       "\n",
       "   btc_estimated_transaction_volume  btc_estimated_transaction_volume_usd  \n",
       "0                              50.0                                   0.0  \n",
       "1                            5300.0                                   0.0  \n",
       "2                             700.0                                   0.0  \n",
       "3                           13162.0                                   0.0  \n",
       "4                             450.0                                   0.0  \n",
       "\n",
       "[5 rows x 24 columns]"
      ]
     },
     "execution_count": 3,
     "metadata": {},
     "output_type": "execute_result"
    }
   ],
   "source": [
    "#Overview of Dataset\n",
    "data.head()"
   ]
  },
  {
   "cell_type": "code",
   "execution_count": 4,
   "metadata": {},
   "outputs": [
    {
     "data": {
      "text/plain": [
       "(2899, 24)"
      ]
     },
     "execution_count": 4,
     "metadata": {},
     "output_type": "execute_result"
    }
   ],
   "source": [
    "data.shape"
   ]
  },
  {
   "cell_type": "code",
   "execution_count": 5,
   "metadata": {},
   "outputs": [
    {
     "name": "stdout",
     "output_type": "stream",
     "text": [
      "Date\n",
      "btc_market_price\n",
      "btc_total_bitcoins\n",
      "btc_market_cap\n",
      "btc_trade_volume\n",
      "btc_blocks_size\n",
      "btc_avg_block_size\n",
      "btc_n_orphaned_blocks\n",
      "btc_n_transactions_per_block\n",
      "btc_median_confirmation_time\n",
      "btc_hash_rate\n",
      "btc_difficulty\n",
      "btc_miners_revenue\n",
      "btc_transaction_fees\n",
      "btc_cost_per_transaction_percent\n",
      "btc_cost_per_transaction\n",
      "btc_n_unique_addresses\n",
      "btc_n_transactions\n",
      "btc_n_transactions_total\n",
      "btc_n_transactions_excluding_popular\n",
      "btc_n_transactions_excluding_chains_longer_than_100\n",
      "btc_output_volume\n",
      "btc_estimated_transaction_volume\n",
      "btc_estimated_transaction_volume_usd\n"
     ]
    }
   ],
   "source": [
    "#Dataset columns\n",
    "for i in data.columns:\n",
    "    print(i)"
   ]
  },
  {
   "cell_type": "code",
   "execution_count": 6,
   "metadata": {},
   "outputs": [
    {
     "data": {
      "text/plain": [
       "Date                                                    object\n",
       "btc_market_price                                       float64\n",
       "btc_total_bitcoins                                     float64\n",
       "btc_market_cap                                         float64\n",
       "btc_trade_volume                                       float64\n",
       "btc_blocks_size                                        float64\n",
       "btc_avg_block_size                                     float64\n",
       "btc_n_orphaned_blocks                                  float64\n",
       "btc_n_transactions_per_block                           float64\n",
       "btc_median_confirmation_time                           float64\n",
       "btc_hash_rate                                          float64\n",
       "btc_difficulty                                         float64\n",
       "btc_miners_revenue                                     float64\n",
       "btc_transaction_fees                                   float64\n",
       "btc_cost_per_transaction_percent                       float64\n",
       "btc_cost_per_transaction                               float64\n",
       "btc_n_unique_addresses                                 float64\n",
       "btc_n_transactions                                     float64\n",
       "btc_n_transactions_total                               float64\n",
       "btc_n_transactions_excluding_popular                   float64\n",
       "btc_n_transactions_excluding_chains_longer_than_100    float64\n",
       "btc_output_volume                                      float64\n",
       "btc_estimated_transaction_volume                       float64\n",
       "btc_estimated_transaction_volume_usd                   float64\n",
       "dtype: object"
      ]
     },
     "execution_count": 6,
     "metadata": {},
     "output_type": "execute_result"
    }
   ],
   "source": [
    "#More insight on Dataset\n",
    "data.dtypes"
   ]
  },
  {
   "cell_type": "code",
   "execution_count": 7,
   "metadata": {},
   "outputs": [],
   "source": [
    "#Convert Date column to Datatime object\n",
    "data['Date'] = pd.to_datetime(data['Date'])"
   ]
  },
  {
   "cell_type": "code",
   "execution_count": 8,
   "metadata": {},
   "outputs": [
    {
     "data": {
      "image/png": "[encoded data removed]",
      "text/plain": [
       "<Figure size 720x360 with 1 Axes>"
      ]
     },
     "metadata": {},
     "output_type": "display_data"
    }
   ],
   "source": [
    "#Visualizing Bitcoin price from 2010 to 2018\n",
    "data['Date_year'] = data.Date.dt.year\n",
    "data.groupby('Date_year')['btc_market_price'].mean().plot(kind='area',figsize=(10,5),title=\"Bitcoin Price (2010-2018)\",color='#b2beb5')\n",
    "plt.xlabel('Year')\n",
    "plt.ylabel('Price($)')\n",
    "plt.show()\n"
   ]
  },
  {
   "cell_type": "code",
   "execution_count": 9,
   "metadata": {},
   "outputs": [
    {
     "data": {
      "image/png": "[encoded data removed]",
      "text/plain": [
       "<Figure size 720x360 with 2 Axes>"
      ]
     },
     "metadata": {},
     "output_type": "display_data"
    }
   ],
   "source": [
    "#Correlation among variables\n",
    "plt.rcParams['figure.figsize'] = (10.0,5.0)\n",
    "corr = data.iloc[:,1:12].corr()\n",
    "sns.heatmap(corr,xticklabels=corr.columns.values,yticklabels=corr.columns.values)\n",
    "plt.show()"
   ]
  },
  {
   "cell_type": "code",
   "execution_count": 21,
   "metadata": {},
   "outputs": [],
   "source": [
    "#Collecting X and Y\n",
    "\n",
    "X = data['btc_estimated_transaction_volume_usd'].values\n",
    "Y = data['btc_market_price'].values"
   ]
  },
  {
   "cell_type": "markdown",
   "metadata": {},
   "source": [
    "### Linear Regression from scratch"
   ]
  },
  {
   "cell_type": "code",
   "execution_count": 23,
   "metadata": {},
   "outputs": [
    {
     "name": "stdout",
     "output_type": "stream",
     "text": [
      "b0: 70.07997780104108\n",
      " b1: 3.903108368726635e-06\n"
     ]
    }
   ],
   "source": [
    "#Mean of X and y\n",
    "mean_of_X = np.mean(X)\n",
    "mean_of_Y = np.mean(Y)\n",
    "\n",
    "#Total number of values\n",
    "n = len(X)\n",
    "\n",
    "#Applying Linear regression  formular \n",
    "numer = 0\n",
    "denom = 0\n",
    "for i in range(n):\n",
    "    numer += (X[i]-mean_of_X) * (Y[i]-mean_of_Y)\n",
    "    denom += (X[i]-mean_of_X) ** 2\n",
    "b1 = numer / denom\n",
    "b0 = mean_of_Y - (b1 * mean_of_X)\n",
    "\n",
    "print(\"b0: {}\\n b1: {}\".format(b0,b1))"
   ]
  },
  {
   "cell_type": "code",
   "execution_count": 24,
   "metadata": {},
   "outputs": [
    {
     "data": {
      "image/png": "[encoded data removed]",
      "text/plain": [
       "<Figure size 720x360 with 1 Axes>"
      ]
     },
     "metadata": {},
     "output_type": "display_data"
    }
   ],
   "source": [
    "#Plotting Values and Regression Line\n",
    "max_X = np.max(X) + 100\n",
    "min_X = np.min(X) - 100\n",
    "\n",
    "#Calculating line values x and y\n",
    "x = X\n",
    "y = b0 + b1 * x\n",
    "\n",
    "#Plotting Line \n",
    "plt.plot(x,y, color = 'yellow', label='Regression Line')\n",
    "\n",
    "#Plotting Scatter\n",
    "plt.scatter(X,Y, color = 'red', label='Scatter Plot')\n",
    "\n",
    "plt.xlabel('btc_estimated_transaction_volume_usd')\n",
    "plt.ylabel('btc_market_price')\n",
    "plt.legend()\n",
    "plt.show()\n"
   ]
  },
  {
   "cell_type": "code",
   "execution_count": 25,
   "metadata": {},
   "outputs": [
    {
     "name": "stdout",
     "output_type": "stream",
     "text": [
      "r2: 0.921625322090048\n"
     ]
    }
   ],
   "source": [
    "#Calculating r2 of our model to see its performance\n",
    "ss_t = 0\n",
    "ss_r = 0\n",
    "for i in range(n):\n",
    "    y_pred = b0 + b1 * X[i]\n",
    "    ss_t += (Y[i]-mean_of_Y) ** 2 \n",
    "    ss_r += (Y[i]-y_pred) ** 2 \n",
    "r2 = 1 - (ss_r/ss_t)\n",
    "print('r2: {}'.format(r2))"
   ]
  },
  {
   "cell_type": "markdown",
   "metadata": {},
   "source": [
    "### Linear Regression using SKlearn Library"
   ]
  },
  {
   "cell_type": "code",
   "execution_count": 26,
   "metadata": {},
   "outputs": [
    {
     "data": {
      "text/plain": [
       "LinearRegression(copy_X=True, fit_intercept=True, n_jobs=1, normalize=False)"
      ]
     },
     "execution_count": 26,
     "metadata": {},
     "output_type": "execute_result"
    }
   ],
   "source": [
    "from sklearn.linear_model import LinearRegression\n",
    "from sklearn.metrics import mean_squared_error\n",
    "\n",
    "#Reshape X\n",
    "X = X.reshape(n,1)\n",
    "#Creating model\n",
    "lr = LinearRegression()\n",
    "#Fitting data\n",
    "lr.fit(X,Y)"
   ]
  },
  {
   "cell_type": "code",
   "execution_count": 27,
   "metadata": {},
   "outputs": [
    {
     "data": {
      "text/plain": [
       "70.07997780104108"
      ]
     },
     "execution_count": 27,
     "metadata": {},
     "output_type": "execute_result"
    }
   ],
   "source": [
    "#b0\n",
    "lr.intercept_"
   ]
  },
  {
   "cell_type": "code",
   "execution_count": 28,
   "metadata": {},
   "outputs": [
    {
     "data": {
      "text/plain": [
       "array([3.90310837e-06])"
      ]
     },
     "execution_count": 28,
     "metadata": {},
     "output_type": "execute_result"
    }
   ],
   "source": [
    "#b1\n",
    "lr.coef_"
   ]
  },
  {
   "cell_type": "code",
   "execution_count": 29,
   "metadata": {},
   "outputs": [
    {
     "data": {
      "text/plain": [
       "0.921625322090048"
      ]
     },
     "execution_count": 29,
     "metadata": {},
     "output_type": "execute_result"
    }
   ],
   "source": [
    "#r2\n",
    "lr.score(X,Y)"
   ]
  },
  {
   "cell_type": "markdown",
   "metadata": {},
   "source": [
    "#### Example: Given the highest estimated transaction volume of bitcoin in usd, what is the market price of bitcoin?"
   ]
  },
  {
   "cell_type": "code",
   "execution_count": 30,
   "metadata": {},
   "outputs": [
    {
     "data": {
      "text/plain": [
       "array([22552.94145771])"
      ]
     },
     "execution_count": 30,
     "metadata": {},
     "output_type": "execute_result"
    }
   ],
   "source": [
    "#Highest estimated transaction volume of bitcoin in usd\n",
    "lr.predict(data['btc_estimated_transaction_volume_usd'].max())"
   ]
  },
  {
   "cell_type": "markdown",
   "metadata": {},
   "source": [
    "Given the highest estimated transaction volume of bitcoin in usd, the market price of bitcoin is approx $22,553"
   ]
  }
 ],
 "metadata": {
  "kernelspec": {
   "display_name": "Python 3",
   "language": "python",
   "name": "python3"
  },
  "language_info": {
   "codemirror_mode": {
    "name": "ipython",
    "version": 3
   },
   "file_extension": ".py",
   "mimetype": "text/x-python",
   "name": "python",
   "nbconvert_exporter": "python",
   "pygments_lexer": "ipython3",
   "version": "3.6.5"
  }
 },
 "nbformat": 4,
 "nbformat_minor": 2
}
